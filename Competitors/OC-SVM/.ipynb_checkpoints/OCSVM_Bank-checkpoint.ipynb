{
 "cells": [
  {
   "cell_type": "markdown",
   "metadata": {
    "id": "81507FHUPRHm"
   },
   "source": [
    "---"
   ]
  },
  {
   "cell_type": "markdown",
   "metadata": {
    "id": "10Wf_UF0PRHx"
   },
   "source": [
    "# Bank"
   ]
  },
  {
   "cell_type": "code",
   "execution_count": 7,
   "metadata": {
    "colab": {
     "base_uri": "https://localhost:8080/"
    },
    "executionInfo": {
     "elapsed": 4767,
     "status": "ok",
     "timestamp": 1623352919627,
     "user": {
      "displayName": "Francesco P.",
      "photoUrl": "https://lh3.googleusercontent.com/a-/AOh14Gj4FjPK264_1MG-Jht7GHwMeiKdDzIbuTNenn2U=s64",
      "userId": "08604050700853841838"
     },
     "user_tz": -120
    },
    "id": "yoBBT_CpPRHy",
    "outputId": "026b88f6-75a8-434a-c611-dfdca900dc93"
   },
   "outputs": [
    {
     "name": "stdout",
     "output_type": "stream",
     "text": [
      "[INFO] -> Using Device:  cuda\n"
     ]
    }
   ],
   "source": [
    "import numpy as np\n",
    "import matplotlib.pyplot as plt\n",
    "\n",
    "import torch\n",
    "import torch.nn as nn\n",
    "import torch.nn.functional as F\n",
    "\n",
    "import torchvision\n",
    "from torchvision import datasets\n",
    "import torchvision.transforms as transforms\n",
    "from torch.utils.data import DataLoader\n",
    "from torch import nn\n",
    "\n",
    "from time import time\n",
    "from tqdm import tqdm\n",
    "\n",
    "from sklearn.metrics import roc_auc_score, average_precision_score,auc, roc_curve\n",
    "from sklearn.metrics import precision_recall_fscore_support, auc, precision_recall_curve\n",
    "from sklearn.metrics import confusion_matrix, classification_report\n",
    "from sklearn.model_selection import train_test_split\n",
    "from sklearn.preprocessing import MinMaxScaler\n",
    "from sklearn.svm import OneClassSVM as OCSVM\n",
    "\n",
    "from sklearn.utils import shuffle\n",
    "\n",
    "import pandas as pd\n",
    "import os\n",
    "import sys\n",
    "\n",
    "seed = 1234\n",
    "np.random.seed(seed)\n",
    "torch.manual_seed(seed)\n",
    "torch.cuda.manual_seed(seed)\n",
    "\n",
    "os.environ['CUDA_VISIBLE_DEVICES'] = '0'\n",
    "\n",
    "device = torch.device('cuda' if (torch.cuda.is_available()) else 'cpu')\n",
    "print('[INFO] -> Using Device: ', device)\n",
    "\n",
    "from load_data import get_Bank as get_data"
   ]
  },
  {
   "cell_type": "code",
   "execution_count": 8,
   "metadata": {
    "executionInfo": {
     "elapsed": 5,
     "status": "ok",
     "timestamp": 1623352919628,
     "user": {
      "displayName": "Francesco P.",
      "photoUrl": "https://lh3.googleusercontent.com/a-/AOh14Gj4FjPK264_1MG-Jht7GHwMeiKdDzIbuTNenn2U=s64",
      "userId": "08604050700853841838"
     },
     "user_tz": -120
    },
    "id": "nvzpyul-PRID"
   },
   "outputs": [],
   "source": [
    "batch_size = 1024\n",
    "\n",
    "BASE_PATH = '..'\n",
    "\n",
    "DATASET_FILE = 'bank-additional-ful-nominal.arff'\n",
    "\n",
    "SPACE_MODELS = './models'\n",
    "SPACE_AUC = './auc'\n",
    "SPACE_AUPRC = './auprc'\n",
    "\n",
    "for n in (SPACE_MODELS, SPACE_AUC, SPACE_AUPRC):\n",
    "    if not os.path.exists(n):\n",
    "        os.mkdir(n)\n",
    "\n",
    "DATASET = 'BANK'\n",
    "\n",
    "PATH = os.path.join(BASE_PATH, 'Dataset', DATASET_FILE)"
   ]
  },
  {
   "cell_type": "code",
   "execution_count": 9,
   "metadata": {
    "colab": {
     "base_uri": "https://localhost:8080/"
    },
    "executionInfo": {
     "elapsed": 2063,
     "status": "ok",
     "timestamp": 1623352921687,
     "user": {
      "displayName": "Francesco P.",
      "photoUrl": "https://lh3.googleusercontent.com/a-/AOh14Gj4FjPK264_1MG-Jht7GHwMeiKdDzIbuTNenn2U=s64",
      "userId": "08604050700853841838"
     },
     "user_tz": -120
    },
    "id": "lV-_QYpwPRID",
    "outputId": "bbaa26f1-cfd4-4896-8b4f-2b08ea680598"
   },
   "outputs": [
    {
     "name": "stdout",
     "output_type": "stream",
     "text": [
      "36548 normal records, 4640 anormal records\n",
      "We use 2321 anomalous records\n",
      "-----------------------------------------------------------------------------------------\n",
      "There are 26383 records in training set\n",
      "Training set is composed by 26383 normal records and 0 abnormal records\n",
      "-----------------------------------------------------------------------------------------\n",
      "There are 3131 records in validation set\n",
      "Validation set is composed by 2551 normal records and 580 abnormal records\n",
      "-----------------------------------------------------------------------------------------\n",
      "There are 9354 records in test set\n",
      "Test set is composed by 7614 normal records and 1740 abnormal records\n"
     ]
    }
   ],
   "source": [
    "dataset = get_data(PATH, seed, show = True)"
   ]
  },
  {
   "cell_type": "markdown",
   "metadata": {
    "id": "Dme2x0kM5rib"
   },
   "source": [
    "#### Mean AUC and standard deviation after seven runs"
   ]
  },
  {
   "cell_type": "code",
   "execution_count": 10,
   "metadata": {
    "executionInfo": {
     "elapsed": 5,
     "status": "ok",
     "timestamp": 1623352921688,
     "user": {
      "displayName": "Francesco P.",
      "photoUrl": "https://lh3.googleusercontent.com/a-/AOh14Gj4FjPK264_1MG-Jht7GHwMeiKdDzIbuTNenn2U=s64",
      "userId": "08604050700853841838"
     },
     "user_tz": -120
    },
    "id": "0lRZfNya5ric"
   },
   "outputs": [],
   "source": [
    "def plot_pr_curve(precision, recall):\n",
    "    plt.figure()\n",
    "    plt.plot(recall, precision, marker='.')\n",
    "    plt.xlabel('Recall')\n",
    "    plt.ylabel('Precision')\n",
    "    plt.show()\n",
    "\n",
    "def pr_auc(y_test, y_pred):\n",
    "    precision, recall, _ = precision_recall_curve(y_test, y_pred)\n",
    "    auc_score = auc(recall, precision)\n",
    "    print(f'PR AUC: {auc_score:.2f}')\n",
    "    plot_pr_curve(precision, recall)\n",
    "    return auc_score"
   ]
  },
  {
   "cell_type": "code",
   "execution_count": null,
   "metadata": {
    "colab": {
     "base_uri": "https://localhost:8080/",
     "height": 1000
    },
    "executionInfo": {
     "elapsed": 1573288,
     "status": "error",
     "timestamp": 1623354494972,
     "user": {
      "displayName": "Francesco P.",
      "photoUrl": "https://lh3.googleusercontent.com/a-/AOh14Gj4FjPK264_1MG-Jht7GHwMeiKdDzIbuTNenn2U=s64",
      "userId": "08604050700853841838"
     },
     "user_tz": -120
    },
    "id": "1m-yj6h05rid",
    "outputId": "d9f823a4-7ddd-4ee4-c023-7b856ebfe1cd"
   },
   "outputs": [],
   "source": [
    "n_runs = 20\n",
    "auc_list = []\n",
    "num_epochs = 200\n",
    "seed = 42\n",
    "pr_list = []\n",
    "\n",
    "for i in range(n_runs):\n",
    "    print(f'Iteration: {i+1}')\n",
    "    dataset = get_data(PATH, seed*(i+1), show=False)\n",
    "    dataset['y_test'].replace({0:-1}, inplace=True)\n",
    "    \n",
    "    ocsvm = OCSVM(gamma = 'auto', verbose = 2)\n",
    "    ocsvm.fit(dataset['x_train'])\n",
    "    y_pred = ocsvm.score_samples(dataset['x_test'])\n",
    "    \n",
    "    y_true = dataset['y_test']\n",
    "    y_true = 1-(y_true+1)/2\n",
    "    y_scores = -y_pred\n",
    "    \n",
    "    _auc = roc_auc_score(y_true, y_scores)\n",
    "    pr = pr_auc(y_true, y_scores)\n",
    "    print(f'AUC: {_auc:.2f}')\n",
    "    \n",
    "    auc_list.append(_auc)\n",
    "    pr_list.append(pr)\n",
    "\n",
    "\n",
    "def meanAUC_PRAUC(auc_list, pr_list, name):\n",
    "    print('AUC:')\n",
    "    print(auc_list)\n",
    "    print('**************')\n",
    "    print('PR AUC:')\n",
    "    print(pr_list)\n",
    "    print('**************')\n",
    "    \n",
    "    \n",
    "    AUC_Frame = pd.DataFrame(auc_list, columns = [name])\n",
    "    PR_AUC_Frame = pd.DataFrame(pr_list, columns = [name])\n",
    "    \n",
    "    AUC_Frame.to_csv(f'./auc/{name}.csv', index=False)\n",
    "    PR_AUC_Frame.to_csv(f'./auc_PR/{name}.csv', index=False)\n",
    "    \n",
    "    AUC_Frame = list(AUC_Frame[name])\n",
    "\n",
    "    N = len(AUC_Frame)\n",
    "    mean_auc = np.mean(AUC_Frame)\n",
    "    std_auc = np.std(AUC_Frame)\n",
    "    std_error = std_auc / (np.sqrt(N))\n",
    "\n",
    "    ci = 1.96 * std_error\n",
    "    lower_bound = mean_auc - ci\n",
    "    upper_bound = mean_auc + ci\n",
    "    \n",
    "    print('AUC')\n",
    "    print(f'{mean_auc:.2f} +/- {ci:.2f}')\n",
    "    print(f'95% confidence level, average auc would be between {lower_bound:.2f} and {upper_bound:.2f}')\n",
    "    print('**************')\n",
    "    \n",
    "    PR_AUC_Frame = list(PR_AUC_Frame[name])\n",
    "\n",
    "    N = len(PR_AUC_Frame)\n",
    "    mean_auc = np.mean(PR_AUC_Frame)\n",
    "    std_auc = np.std(PR_AUC_Frame)\n",
    "    std_error = std_auc / (np.sqrt(N))\n",
    "\n",
    "    ci = 1.96 * std_error\n",
    "    lower_bound = mean_auc - ci\n",
    "    upper_bound = mean_auc + ci\n",
    "    \n",
    "    print('PR AUC')\n",
    "    print(f'{mean_auc:.2f} +/- {ci:.2f}')\n",
    "    print(f'95% confidence level, average auc would be between {lower_bound:.2f} and {upper_bound:.2f}')\n",
    "\n",
    "meanAUC_PRAUC(auc_list, pr_list, 'OCSVM_bank')"
   ]
  },
  {
   "cell_type": "code",
   "execution_count": 13,
   "metadata": {
    "colab": {
     "base_uri": "https://localhost:8080/"
    },
    "executionInfo": {
     "elapsed": 3,
     "status": "ok",
     "timestamp": 1623356127279,
     "user": {
      "displayName": "Francesco P.",
      "photoUrl": "https://lh3.googleusercontent.com/a-/AOh14Gj4FjPK264_1MG-Jht7GHwMeiKdDzIbuTNenn2U=s64",
      "userId": "08604050700853841838"
     },
     "user_tz": -120
    },
    "id": "KRqf01ps5ril",
    "outputId": "2e9826d3-20f3-42c7-a83b-209a0f24abce"
   },
   "outputs": [
    {
     "name": "stdout",
     "output_type": "stream",
     "text": [
      "AUC:\n",
      "[0.5954175082802702, 0.6097864943283546, 0.5995670030101838, 0.6056942519677907, 0.6109878883122137, 0.5917347128248327, 0.5983896874782992, 0.6020318363933348, 0.6026202111053746, 0.6038113774082225, 0.6013570358897251, 0.6127545220691466, 0.6019121612033489, 0.6111844409421241, 0.5988152118450888, 0.6115299176652809, 0.5922328876932692, 0.593779305514041, 0.603398533856266, 0.6019073304167459]\n",
      "**************\n",
      "PR AUC:\n",
      "[0.2744101287471215, 0.28959769055389045, 0.2805381930665668, 0.29521487307583033, 0.2836857088756979, 0.2657404395648387, 0.2841256744501754, 0.2890849228089878, 0.281893623658347, 0.27980651284513813, 0.2760092294366398, 0.2911676384908633, 0.2882703078970984, 0.2965879191701368, 0.289936732253564, 0.3001486658684157, 0.2763122740522489, 0.2792253540251103, 0.28332816006114614, 0.27798842781412597]\n",
      "**************\n",
      "AUC\n",
      "0.60 +/- 0.00\n",
      "95% confidence level, average auc would be between 0.60 and 0.61\n",
      "**************\n",
      "PR AUC\n",
      "0.28 +/- 0.00\n",
      "95% confidence level, average auc would be between 0.28 and 0.29\n"
     ]
    }
   ],
   "source": [
    "meanAUC_PRAUC(auc_list, pr_list, 'OCSVM_bank')"
   ]
  },
  {
   "cell_type": "markdown",
   "metadata": {
    "id": "2PwEZM6YOG9R"
   },
   "source": [
    "---"
   ]
  }
 ],
 "metadata": {
  "accelerator": "GPU",
  "colab": {
   "collapsed_sections": [],
   "name": "OCSVM_Bank.ipynb",
   "provenance": []
  },
  "kernelspec": {
   "display_name": "Python 3",
   "language": "python",
   "name": "python3"
  },
  "language_info": {
   "codemirror_mode": {
    "name": "ipython",
    "version": 3
   },
   "file_extension": ".py",
   "mimetype": "text/x-python",
   "name": "python",
   "nbconvert_exporter": "python",
   "pygments_lexer": "ipython3",
   "version": "3.8.2"
  }
 },
 "nbformat": 4,
 "nbformat_minor": 4
}
