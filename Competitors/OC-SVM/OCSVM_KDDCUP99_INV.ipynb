{
 "cells": [
  {
   "cell_type": "markdown",
   "metadata": {
    "id": "81507FHUPRHm"
   },
   "source": [
    "---"
   ]
  },
  {
   "cell_type": "markdown",
   "metadata": {
    "id": "10Wf_UF0PRHx"
   },
   "source": [
    "# KDDCUP99"
   ]
  },
  {
   "cell_type": "code",
   "execution_count": 1,
   "metadata": {
    "executionInfo": {
     "elapsed": 6454,
     "status": "ok",
     "timestamp": 1616573880125,
     "user": {
      "displayName": "Angelica Liguori",
      "photoUrl": "",
      "userId": "05017064839845812601"
     },
     "user_tz": -60
    },
    "id": "yoBBT_CpPRHy"
   },
   "outputs": [
    {
     "name": "stdout",
     "output_type": "stream",
     "text": [
      "[INFO] -> Using Device:  cuda\n"
     ]
    }
   ],
   "source": [
    "import numpy as np\n",
    "import matplotlib.pyplot as plt\n",
    "\n",
    "import torch\n",
    "import torch.nn as nn\n",
    "import torch.nn.functional as F\n",
    "\n",
    "import torchvision\n",
    "from torchvision import datasets\n",
    "import torchvision.transforms as transforms\n",
    "from torch.utils.data import DataLoader\n",
    "from torch import nn\n",
    "\n",
    "from time import time\n",
    "from tqdm import tqdm\n",
    "\n",
    "from sklearn.metrics import roc_auc_score, average_precision_score,auc, roc_curve\n",
    "from sklearn.metrics import precision_recall_fscore_support, auc, precision_recall_curve\n",
    "from sklearn.metrics import confusion_matrix, classification_report\n",
    "from sklearn.model_selection import train_test_split\n",
    "from sklearn.preprocessing import MinMaxScaler\n",
    "from sklearn.svm import OneClassSVM as OCSVM\n",
    "\n",
    "from sklearn.utils import shuffle\n",
    "\n",
    "import pandas as pd\n",
    "import os\n",
    "import sys\n",
    "\n",
    "seed = 1234\n",
    "np.random.seed(seed)\n",
    "torch.manual_seed(seed)\n",
    "torch.cuda.manual_seed(seed)\n",
    "\n",
    "os.environ['CUDA_VISIBLE_DEVICES'] = '0'\n",
    "\n",
    "device = torch.device('cuda' if (torch.cuda.is_available()) else 'cpu')\n",
    "print('[INFO] -> Using Device: ', device)\n",
    "\n",
    "from load_data import get_KDDCUP99_INV as get_data"
   ]
  },
  {
   "cell_type": "code",
   "execution_count": 2,
   "metadata": {
    "executionInfo": {
     "elapsed": 482,
     "status": "ok",
     "timestamp": 1616573917983,
     "user": {
      "displayName": "Angelica Liguori",
      "photoUrl": "",
      "userId": "05017064839845812601"
     },
     "user_tz": -60
    },
    "id": "nvzpyul-PRID"
   },
   "outputs": [],
   "source": [
    "batch_size = 1024\n",
    "\n",
    "WORK_SPACE = '../Dataset'\n",
    "FILE = 'kddcup.data_10_percent_corrected'\n",
    "\n",
    "SPACE_MODELS = './models'\n",
    "SPACE_AUC = './auc'\n",
    "SPACE_AUPRC = './auprc'\n",
    "\n",
    "for n in (SPACE_MODELS, SPACE_AUC, SPACE_AUPRC):\n",
    "    if not os.path.exists(n):\n",
    "        os.mkdir(n)\n",
    "\n",
    "DATASET = 'KDDCUP99'\n",
    "\n",
    "PATH = os.path.join(WORK_SPACE, FILE)"
   ]
  },
  {
   "cell_type": "code",
   "execution_count": 3,
   "metadata": {
    "colab": {
     "base_uri": "https://localhost:8080/"
    },
    "executionInfo": {
     "elapsed": 13436,
     "status": "ok",
     "timestamp": 1616573932393,
     "user": {
      "displayName": "Angelica Liguori",
      "photoUrl": "",
      "userId": "05017064839845812601"
     },
     "user_tz": -60
    },
    "id": "lV-_QYpwPRID",
    "outputId": "49afc328-2bf7-4070-ae8f-4cee2e471783"
   },
   "outputs": [
    {
     "name": "stdout",
     "output_type": "stream",
     "text": [
      "396743 normal records, 97278 anormal records\n",
      "We use 48640 anomalous records\n",
      "-----------------------------------------------------------------------------------------\n",
      "There are 274006 records in training set\n",
      "Training set is composed by 274006 normal records and 0 abnormal records\n",
      "-----------------------------------------------------------------------------------------\n",
      "There are 43701 records in validation set\n",
      "Validation set is composed by 31540 normal records and 12161 abnormal records\n",
      "-----------------------------------------------------------------------------------------\n",
      "There are 127676 records in test set\n",
      "Test set is composed by 91197 normal records and 36479 abnormal records\n"
     ]
    }
   ],
   "source": [
    "dataset = get_data(PATH, seed, show=True)"
   ]
  },
  {
   "cell_type": "markdown",
   "metadata": {},
   "source": [
    "## Model"
   ]
  },
  {
   "cell_type": "code",
   "execution_count": 4,
   "metadata": {},
   "outputs": [],
   "source": [
    "def meanAUC_PRAUC(auc_list, pr_list, name):\n",
    "    print('AUC:')\n",
    "    print(auc_list)\n",
    "    print('**************')\n",
    "    print('PR AUC:')\n",
    "    print(pr_list)\n",
    "    print('**************')\n",
    "    \n",
    "    \n",
    "    AUC_Frame = pd.DataFrame(auc_list, columns = [name])\n",
    "    PR_AUC_Frame = pd.DataFrame(pr_list, columns = [name])\n",
    "    \n",
    "    AUC_Frame.to_csv(f'./auc/{name}.csv', index=False)\n",
    "    PR_AUC_Frame.to_csv(f'./auc_PR/{name}.csv', index=False)\n",
    "    \n",
    "    AUC_Frame = list(AUC_Frame[name])\n",
    "\n",
    "    N = len(AUC_Frame)\n",
    "    mean_auc = np.mean(AUC_Frame)\n",
    "    std_auc = np.std(AUC_Frame)\n",
    "    std_error = std_auc / (np.sqrt(N))\n",
    "\n",
    "    ci = 1.96 * std_error\n",
    "    lower_bound = mean_auc - ci\n",
    "    upper_bound = mean_auc + ci\n",
    "    \n",
    "    print('AUC')\n",
    "    print(f'{mean_auc:.2f} +/- {ci:.2f}')\n",
    "    print(f'95% confidence level, average auc would be between {lower_bound:.2f} and {upper_bound:.2f}')\n",
    "    print('**************')\n",
    "    \n",
    "    PR_AUC_Frame = list(PR_AUC_Frame[name])\n",
    "\n",
    "    N = len(PR_AUC_Frame)\n",
    "    mean_auc = np.mean(PR_AUC_Frame)\n",
    "    std_auc = np.std(PR_AUC_Frame)\n",
    "    std_error = std_auc / (np.sqrt(N))\n",
    "\n",
    "    ci = 1.96 * std_error\n",
    "    lower_bound = mean_auc - ci\n",
    "    upper_bound = mean_auc + ci\n",
    "    \n",
    "    print('PR AUC')\n",
    "    print(f'{mean_auc:.2f} +/- {ci:.2f}')\n",
    "    print(f'95% confidence level, average auc would be between {lower_bound:.2f} and {upper_bound:.2f}')\n",
    "\n",
    "def plot_pr_curve(precision, recall):\n",
    "    plt.figure()\n",
    "    plt.plot(recall, precision, marker='.')\n",
    "    plt.xlabel('Recall')\n",
    "    plt.ylabel('Precision')\n",
    "    plt.show()\n",
    "\n",
    "def pr_auc(y_test, y_pred):\n",
    "    precision, recall, _ = precision_recall_curve(y_test, y_pred)\n",
    "    auc_score = auc(recall, precision)\n",
    "    print(f'PR AUC: {auc_score:.2f}')\n",
    "    plot_pr_curve(precision, recall)\n",
    "    return auc_score"
   ]
  },
  {
   "cell_type": "markdown",
   "metadata": {},
   "source": [
    "#### Mean AUC and standard deviation after seven runs"
   ]
  },
  {
   "cell_type": "code",
   "execution_count": null,
   "metadata": {},
   "outputs": [],
   "source": [
    "n_runs = 20\n",
    "auc_list = []\n",
    "num_epochs = 50\n",
    "seed = 42\n",
    "pr_list = []\n",
    "\n",
    "for i in range(n_runs):\n",
    "    print(f'Iteration: {i+1}')\n",
    "    dataset = get_data(PATH, seed*(i+1), show=False)\n",
    "    \n",
    "    dataset['y_test'].replace({0:-1  inplace = True)\n",
    "    \n",
    "    ocsvm = OCSVM(gamma = 'auto', verbose = 2)\n",
    "    ocsvm.fit(dataset['x_train'])\n",
    "    y_pred = ocsvm.score_samples(dataset['x_test'])\n",
    "    \n",
    "    y_true = dataset['y_test']\n",
    "    y_true = 1-(y_true+1)/2\n",
    "    y_scores = -y_pred\n",
    "    \n",
    "    _auc = roc_auc_score(y_true, y_scores)\n",
    "    pr = pr_auc(y_true, y_scores)\n",
    "    print(f'AUC: {_auc:.2f}')\n",
    "    \n",
    "    auc_list.append(_auc)\n",
    "    pr_list.append(pr)"
   ]
  },
  {
   "cell_type": "code",
   "execution_count": null,
   "metadata": {},
   "outputs": [],
   "source": [
    "meanAUC_PRAUC(auc_list, pr_list, 'OCSVM_KDDCUP99_INV')"
   ]
  },
  {
   "cell_type": "markdown",
   "metadata": {
    "id": "2PwEZM6YOG9R"
   },
   "source": [
    "---"
   ]
  },
  {
   "cell_type": "code",
   "execution_count": null,
   "metadata": {},
   "outputs": [],
   "source": []
  }
 ],
 "metadata": {
  "accelerator": "GPU",
  "colab": {
   "collapsed_sections": [],
   "name": "Copia di modelloDeep.ipynb",
   "provenance": []
  },
  "kernelspec": {
   "display_name": "Python 3",
   "language": "python",
   "name": "python3"
  },
  "language_info": {
   "codemirror_mode": {
    "name": "ipython",
    "version": 3
   },
   "file_extension": ".py",
   "mimetype": "text/x-python",
   "name": "python",
   "nbconvert_exporter": "python",
   "pygments_lexer": "ipython3",
   "version": "3.8.2"
  }
 },
 "nbformat": 4,
 "nbformat_minor": 4
}
